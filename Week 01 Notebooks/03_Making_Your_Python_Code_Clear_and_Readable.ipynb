{
  "cells": [
    {
      "cell_type": "markdown",
      "metadata": {
        "id": "view-in-github",
        "colab_type": "text"
      },
      "source": [
        "<a href=\"https://colab.research.google.com/github/kimtannnn/Isys2001/blob/main/Week%2001%20Notebooks/03_Making_Your_Python_Code_Clear_and_Readable.ipynb\" target=\"_parent\"><img src=\"https://colab.research.google.com/assets/colab-badge.svg\" alt=\"Open In Colab\"/></a>"
      ]
    },
    {
      "cell_type": "markdown",
      "metadata": {
        "id": "UIMGRXQBPbds"
      },
      "source": [
        "## Making Your Python Code Clear and Readable\n",
        "\n",
        "Welcome! 🎉\n",
        "\n",
        "When writing code, **how** you format your output is just as important as **what** you print. Imagine reading a book without spaces between paragraphs—it would be confusing, right? The same idea applies to programming!\n",
        "\n",
        "In this notebook, you'll learn how to:  \n",
        "\n",
        "- ✅ Add **blank lines** to make your output easier to read  \n",
        "- ✅ Print **multiple lines** using different techniques  \n",
        "- ✅ Use **comments** to explain your code (just like adding notes in a notebook!)\n",
        "\n",
        "💡 **Why does this matter?**  \n",
        "\n",
        "- Blank lines help **organise** your output.  \n",
        "- Comments help **explain** your code so that you (and others) can understand it later.  \n",
        "- Writing clear, readable code is a skill that **every great programmer** develops over time!\n",
        "\n",
        "Let's make your Python programs **clear, structured, and easy to read!** 🚀\n",
        "\n",
        "# AI as an assistant!\n",
        "\n",
        "Throughout this notebook, our aim isn’t simply to complete every exercise but to truly understand how the Python print() command works. Feel free to use AI as a tool to clarify concepts and support your learning, but remember that building a strong foundation in these basics is key. As tasks become more challenging, your intuitive grasp of the fundamentals will help you confidently interpret and apply AI suggestions.\n",
        "\n",
        "\n",
        "# Section 1: Skipping a Line in Code\n",
        "\n",
        "Skipping a line in the code without a print statement has no effect on the output. For example:\n",
        "\n",
        "```python\n",
        "print(\"Apple\")\n",
        "\n",
        "print(\"or Orange?\")\n",
        "```\n",
        "\n",
        "**Output:**\n",
        "```\n",
        "Apple\n",
        "or Orange?\n",
        "```\n",
        "\n",
        "What do you think is the result of running this code?  Have a guess and then run the cell.  Did the output match your expectations?"
      ]
    },
    {
      "cell_type": "code",
      "execution_count": 1,
      "metadata": {
        "vscode": {
          "languageId": "python"
        },
        "id": "X5QK3LOBPbdt",
        "colab": {
          "base_uri": "https://localhost:8080/"
        },
        "outputId": "b0bc949d-3405-44af-ab6c-a82cd7618c2f"
      },
      "outputs": [
        {
          "output_type": "stream",
          "name": "stdout",
          "text": [
            "How\n",
            "are\n",
            "you?\n"
          ]
        }
      ],
      "source": [
        "print(\"How\")\n",
        "\n",
        "print(\"are\")\n",
        "print(\"you?\")"
      ]
    },
    {
      "cell_type": "markdown",
      "metadata": {
        "id": "EPejsZYNPbdt"
      },
      "source": [
        "> *Hint:* Consider how each `print()` creates a new line.\n",
        "\n",
        "\n",
        "\n",
        "# Section 2: We Must Skip a Line\n",
        "\n",
        "But what if I want a blank line? You might be wondering, \"How can we print a blank line in Python?\" It's easy! Just use the `print()` function without anything inside the parentheses.\n",
        "\n",
        "Check this out:\n",
        "\n",
        "```python\n",
        "print(\"How\")\n",
        "print()\n",
        "print(\"are\")\n",
        "print(\"you?\")\n",
        "```\n",
        "\n",
        "**Output:**\n",
        "```\n",
        "How\n",
        "\n",
        "are\n",
        "you?\n",
        "```\n",
        "\n",
        "Notice how we left the second line blank!\n",
        "\n",
        "Now, let's put this into practice. Rearrange the lines below to print:\n",
        "\n",
        "```\n",
        "Blank spaces matter\n",
        "for clarity\n",
        "\n",
        "and style!\n",
        "```\n",
        "\n",
        "> *Advanced Tip:* Think about the order in which the lines are printed and how blank lines affect the overall output.\n",
        "\n",
        "\n",
        "\n",
        "# Section 3: Multiple Lines with One Function\n",
        "\n",
        "Can we use just one `print()` function to print several lines? We've got two nifty tricks for you. Ready?\n",
        "\n",
        "### First Trick: Using `\\n` to Start a New Line\n",
        "\n",
        "How does it work? Check this out:\n",
        "\n",
        "```python\n",
        "print(\"This is the first line.\\nThis is the second line.\")\n",
        "```\n",
        "\n",
        "**Output:**\n",
        "```\n",
        "This is the first line.\n",
        "This is the second line.\n",
        "```\n",
        "\n",
        "Here, `\\n` inside the string tells Python to jump to a new line and continue printing. Easy and efficient, right?\n",
        "\n",
        "> *Tip:* Use this method when you want to embed newlines within a single string.\n",
        "\n",
        "\n",
        "\n",
        "# Section 4: Economical Printing – Using Triple Quotes\n",
        "\n",
        "Here's another cool trick Python has up its sleeve to print several lines at once: using three single (`'''`) or three double (`\"\"\"`) quotes.\n",
        "\n",
        "```python\n",
        "print('''My contact:\n",
        "Email: your_name@gmail.com\n",
        "Phone: +xx-1234-5678''')\n",
        "```\n",
        "\n",
        "**Output:**\n",
        "```\n",
        "My contact:\n",
        "Email: your_name@gmail.com\n",
        "Phone: +xx-1234-5678\n",
        "```\n",
        "\n",
        "*Advanced Note:* When using triple quotes, Python preserves the newlines exactly as you type them, which can be very handy for multi-line output.\n",
        "\n",
        "\n",
        "\n",
        "# Section 5: Debugging Multiline String Errors\n",
        "\n",
        "Let's tackle a challenge with a multi-line string. Notice the problematic code below:\n",
        "\n",
        "**Target Output:**\n",
        "\n",
        "```\n",
        "To-Do List:\n",
        "1. Complete Python exercise\n",
        "2. Review coding concepts\n",
        "3. Have a cuppa tea\n",
        "```\n",
        "\n",
        "**Problematic Code:**\n",
        "\n",
        "> *Hint:* Consider how to correctly represent a multi-line string in Python. You might use `\\n` or triple quotes.\n",
        "\n",
        "> *Extension:* Write two answers, one uses `\\n` and the other uses triple quotes."
      ]
    },
    {
      "cell_type": "code",
      "execution_count": 6,
      "metadata": {
        "vscode": {
          "languageId": "python"
        },
        "id": "RcPkDyHAPbdu",
        "colab": {
          "base_uri": "https://localhost:8080/"
        },
        "outputId": "2ff0c9dd-8da5-4bcc-a67b-9a2c1a797374"
      },
      "outputs": [
        {
          "output_type": "stream",
          "name": "stdout",
          "text": [
            "To-Do List:\n",
            "1. Complete Python exercise\n",
            "2. Review coding concepts\n",
            "3. Have a cuppa tea\n"
          ]
        }
      ],
      "source": [
        "print('''To-Do List:\n",
        "1. Complete Python exercise\n",
        "2. Review coding concepts\n",
        "3. Have a cuppa tea''')"
      ]
    },
    {
      "cell_type": "code",
      "source": [
        "print(\"To-Do List: \\n 1. Complete python exercise \\n 2. Review coding concepts \\n 3. Have a cuppa tea\")"
      ],
      "metadata": {
        "id": "vZl2M5dzBVp2",
        "outputId": "d7fd929e-39a3-4f95-d244-5eb852ec834e",
        "colab": {
          "base_uri": "https://localhost:8080/"
        }
      },
      "execution_count": 7,
      "outputs": [
        {
          "output_type": "stream",
          "name": "stdout",
          "text": [
            "To-Do List: \n",
            " 1. Complete python exercise \n",
            " 2. Review coding concepts \n",
            " 3. Have a cuppa tea\n"
          ]
        }
      ]
    },
    {
      "cell_type": "code",
      "source": [
        "#Section 2\n",
        "print(\"How\")\n",
        "print()\n",
        "print(\"are\")\n",
        "print(\"you?\")"
      ],
      "metadata": {
        "id": "2MrMWvvEAUde",
        "outputId": "6f799d37-b001-4c25-af32-213f480198df",
        "colab": {
          "base_uri": "https://localhost:8080/"
        }
      },
      "execution_count": 2,
      "outputs": [
        {
          "output_type": "stream",
          "name": "stdout",
          "text": [
            "How\n",
            "\n",
            "are\n",
            "you?\n"
          ]
        }
      ]
    },
    {
      "cell_type": "code",
      "source": [
        "#Section 3\n",
        "print(\"This is the first line.\\nThis is the second line.\")\n"
      ],
      "metadata": {
        "id": "OxAsmPloAcy2",
        "outputId": "7679bd07-9870-45a2-ec31-7c522c6a5f8a",
        "colab": {
          "base_uri": "https://localhost:8080/"
        }
      },
      "execution_count": 3,
      "outputs": [
        {
          "output_type": "stream",
          "name": "stdout",
          "text": [
            "This is the first line.\n",
            "This is the second line.\n"
          ]
        }
      ]
    },
    {
      "cell_type": "code",
      "source": [
        "#Section 4\n",
        "print('''My contact:\n",
        "Email: your_name@gmail.com\n",
        "Phone: +xx-1234-5678''')"
      ],
      "metadata": {
        "id": "JnnqDk8MAiiJ"
      },
      "execution_count": null,
      "outputs": []
    },
    {
      "cell_type": "markdown",
      "metadata": {
        "id": "UwppMAtUPbdu"
      },
      "source": [
        "# Section 6: Print a Python Poem\n",
        "\n",
        "Instead of an inspirational quote, why not create a short poem about Python? Ask AI to write a 3- or 4-line poem about Python, then print the poem using one of these techniques:\n",
        "\n",
        "- Using multiple `print()` functions  \n",
        "- Using `\\n` inside a single string  \n",
        "- Using triple quotes  \n",
        "\n",
        "Print the poem with the same formatting as shown below. For example, if AI gives you:\n",
        "\n",
        "```\n",
        "Python dances in lines of code,\n",
        "A rhythm where logic is bestowed.\n",
        "In every loop, a tale unfolds,\n",
        "A world of wonder in each node.\n",
        "```\n",
        "\n",
        "Your output should match the format exactly.\n",
        "\n",
        "> *Tip:* Choose the method you like best to print the poem.\n",
        "\n",
        "\n",
        "# Section 7: Print a Personal Profile\n",
        "\n",
        "Now, create a Python program to print a personal profile using a single `print()` function. Here's the target output:\n",
        "\n",
        "```\n",
        "Personal Profile:\n",
        "Name: Alice Smith\n",
        "Favourite Language: Python\n",
        "Hobby: Coding and bushwalking\n",
        "```\n",
        "\n",
        "> *Note:* You still have three options available (multiple print statements, `\\n`, or triple quotes), but try a different one from the previous challenge.\n",
        "\n",
        "> *Tip:* Ensure the text format is exactly as shown above, with proper line breaks.\n",
        "\n",
        "\n",
        "\n",
        "# Section 8: Comments\n",
        "\n",
        "Before we end the notebook, let’s talk about the line of code that the program *ignores* comments!\n",
        "\n",
        "Comments don’t affect the program but are crucial for readability. By explaining what each part of the code does, comments act like helpful notes, guiding developers through the logic.\n",
        "\n",
        "> **Quick Rule:** In Python, start a line with `#` and it's a comment.\n",
        "\n",
        "**Example:**\n",
        "\n",
        "```python\n",
        "# This line is a comment and won't be executed\n",
        "print(\"Do you have any comment?\")\n",
        "```\n",
        "\n",
        "**Output:**\n",
        "```\n",
        "Do you have any comment?\n",
        "```\n",
        "\n",
        "The line starting with `#` is ignored by the computer.\n",
        "\n",
        "> *Quick Question:* Which symbol does Python use to comment out a line?\n",
        "\n",
        "\n",
        "\n",
        "# Section 9: Writing Comments\n",
        "\n",
        "Anna has recently learnt about multi-line programming in Python and has written a simple script that incorporates all the lessons she learnt:\n",
        "\n",
        "```python\n",
        "print(\"Hello, World!\")\n",
        "print()\n",
        "print(\"This is the first line. \\nThis is the second line.\")\n",
        "print('''Three quotes can be used also\n",
        "to print multiple lines using a single print function''')\n",
        "```\n",
        "\n",
        "Now, she wants to add these three comments inside her code in the appropriate places:\n",
        "- `print()` function will leave an empty line  \n",
        "- `\\n` is used to signal Python to start a new line  \n",
        "- Three quotation marks can also print multiple lines  \n",
        "\n",
        "Please fill in the blanks below and assist Susan in writing well-commented scripts that she will find easier to understand later.\n",
        "\n",
        "> *Tip:* Think about where each comment would best explain the corresponding code functionality.\n",
        "\n",
        "```python\n",
        "print(\"Hello, World!\")\n",
        "\n",
        "print()\n",
        "\n",
        "print(\"This is the first line. \\nThis is the second line.\")\n",
        "\n",
        "print('''Three quotes can be used also\n",
        "to print multiple lines using a single print function''')\n",
        "```\n",
        "\n",
        "Happy coding, and remember—clear and readable code is the first step towards becoming a great programmer!"
      ]
    },
    {
      "cell_type": "code",
      "source": [
        "#Section 6\n",
        "print('''Python dances in lines of code,\n",
        "A rhythm where logic is bestowed.\n",
        "In every loop, a tale unfolds,\n",
        "A world of wonder in each node.''')"
      ],
      "metadata": {
        "id": "b5TdxBhBBl_G",
        "outputId": "4c3b2193-51ad-4def-b254-3aa4a928d3ba",
        "colab": {
          "base_uri": "https://localhost:8080/"
        }
      },
      "execution_count": 8,
      "outputs": [
        {
          "output_type": "stream",
          "name": "stdout",
          "text": [
            "Python dances in lines of code,\n",
            "A rhythm where logic is bestowed.\n",
            "In every loop, a tale unfolds,\n",
            "A world of wonder in each node.\n"
          ]
        }
      ]
    },
    {
      "cell_type": "code",
      "source": [
        "#Section 7\n",
        "print(\"Personal Profile: \\n Name: Alice Smith \\n Favourite Language: Python \\n Hobby: Coding and bushwalking\")"
      ],
      "metadata": {
        "id": "C-XjtcLlBvBv",
        "outputId": "12332a4e-52a8-417c-e5c5-75c0d48e9eff",
        "colab": {
          "base_uri": "https://localhost:8080/"
        }
      },
      "execution_count": 9,
      "outputs": [
        {
          "output_type": "stream",
          "name": "stdout",
          "text": [
            "Personal Profile: \n",
            " Name: Alice Smith \n",
            " Favourite Language: Python \n",
            " Hobby: Coding and bushwalking\n"
          ]
        }
      ]
    },
    {
      "cell_type": "code",
      "source": [
        "# Section 8\n",
        "# This line is a comment and won't be executed\n",
        "print(\"Do you have any comment?\")"
      ],
      "metadata": {
        "id": "lYbj0OAwB_oe",
        "outputId": "05ad0c99-b52b-472d-b7ec-522dbb2708eb",
        "colab": {
          "base_uri": "https://localhost:8080/"
        }
      },
      "execution_count": 10,
      "outputs": [
        {
          "output_type": "stream",
          "name": "stdout",
          "text": [
            "Do you have any comment?\n"
          ]
        }
      ]
    },
    {
      "cell_type": "code",
      "source": [
        "# Section 9\n",
        "# print syntax\n",
        "print(\"Hello, World!\")\n",
        "# print() function will leave an empty line\n",
        "print()\n",
        "# \\n is used to signal Python to start a new line\n",
        "print(\"This is the first line. \\nThis is the second line.\")\n",
        "# Three quotation marks can also print multiple lines\n",
        "print('''Three quotes can be used also\n",
        "to print multiple lines using a single print function''')"
      ],
      "metadata": {
        "id": "YEcGOzGPCCSt",
        "outputId": "04eb92eb-1cd4-4164-9e36-c5850913e0df",
        "colab": {
          "base_uri": "https://localhost:8080/"
        }
      },
      "execution_count": 11,
      "outputs": [
        {
          "output_type": "stream",
          "name": "stdout",
          "text": [
            "Hello, World!\n",
            "\n",
            "This is the first line. \n",
            "This is the second line.\n",
            "Three quotes can be used also\n",
            "to print multiple lines using a single print function\n"
          ]
        }
      ]
    }
  ],
  "metadata": {
    "kernelspec": {
      "display_name": "Python 3 (ipykernel)",
      "language": "python",
      "name": "python3"
    },
    "colab": {
      "provenance": [],
      "include_colab_link": true
    }
  },
  "nbformat": 4,
  "nbformat_minor": 0
}