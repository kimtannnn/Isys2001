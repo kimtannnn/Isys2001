{
  "cells": [
    {
      "cell_type": "markdown",
      "metadata": {
        "id": "view-in-github",
        "colab_type": "text"
      },
      "source": [
        "<a href=\"https://colab.research.google.com/github/kimtannnn/Isys2001/blob/main/Week%2001%20Notebooks/Mini_Project_AI_Budget_Tracker.ipynb\" target=\"_parent\"><img src=\"https://colab.research.google.com/assets/colab-badge.svg\" alt=\"Open In Colab\"/></a>"
      ]
    },
    {
      "cell_type": "markdown",
      "id": "45b851c9",
      "metadata": {
        "id": "45b851c9"
      },
      "source": [
        "#Mini Project: AI-Powered Budget Tracker - Interactive Notebook\n",
        "# ISYS2001 Introduction to Business Programming\n",
        "\n",
        "**Instructions:**\n",
        "1. Save a copy of this notebook to your Google Drive (File > Save a copy in Drive)  \n",
        "2. Rename it to include your name: `Week1_Budget_Tracker_[YourName]`  \n",
        "3. Complete all sections and code cells  \n",
        "4. Document your AI interactions as you go\n"
      ]
    },
    {
      "cell_type": "markdown",
      "id": "a60fc4c8",
      "metadata": {
        "id": "a60fc4c8"
      },
      "source": [
        "## Part 1: Environment Setup and First Steps"
      ]
    },
    {
      "cell_type": "code",
      "execution_count": 1,
      "id": "2e576bd1",
      "metadata": {
        "id": "2e576bd1",
        "colab": {
          "base_uri": "https://localhost:8080/"
        },
        "outputId": "f01fdb33-7d8a-4bcf-a3f2-49776ad716d4"
      },
      "outputs": [
        {
          "output_type": "stream",
          "name": "stdout",
          "text": [
            "🎉 Welcome to ISYS2001: Introduction to Business Programming!\n",
            "📊 Project: Personal Finance Assistant\n",
            "🤖 Today's Goal: Build a Simple Budget Tracker with AI Help\n",
            "\n",
            "📅 Worksheet started at: 2025-07-24 01:27:20\n"
          ]
        }
      ],
      "source": [
        "# Run this cell to test your environment\n",
        "print(\"🎉 Welcome to ISYS2001: Introduction to Business Programming!\")\n",
        "print(\"📊 Project: Personal Finance Assistant\")\n",
        "print(\"🤖 Today's Goal: Build a Simple Budget Tracker with AI Help\")\n",
        "\n",
        "# Import datetime to timestamp your work\n",
        "from datetime import datetime\n",
        "print(f\"\\n📅 Worksheet started at: {datetime.now().strftime('%Y-%m-%d %H:%M:%S')}\")"
      ]
    },
    {
      "cell_type": "markdown",
      "id": "7ac0ada2",
      "metadata": {
        "id": "7ac0ada2"
      },
      "source": [
        "## Part 2: Your First AI Prompt\n",
        "\n",
        "Use an AI assistant (Gemini in Colab, ChatGPT, or GitHub Copilot) to create a program that:\n",
        "- Asks the user for their name\n",
        "- Asks for their monthly income  \n",
        "- Prints a personalized welcome message\n",
        "\n",
        "### 📝 Document Your AI Prompt Below:"
      ]
    },
    {
      "cell_type": "code",
      "execution_count": 3,
      "id": "62045e66",
      "metadata": {
        "id": "62045e66",
        "colab": {
          "base_uri": "https://localhost:8080/"
        },
        "outputId": "c3d9b11a-dc32-4148-b153-dd79a68b62ae"
      },
      "outputs": [
        {
          "output_type": "stream",
          "name": "stdout",
          "text": [
            "What is your name? Kim\n",
            "What is your monthly income? 2000\n",
            "\n",
            "Welcome, Kim!\n",
            "That's great to hear that you're earning $2000 per month. Keep it up!\n"
          ]
        }
      ],
      "source": [
        "# TASK: Write your AI prompt as a comment below\n",
        "\"\"\"\n",
        "My AI Prompt:\n",
        "Can you write a program in python language that the program will ask the user about their name, their monthly income and\n",
        "\n",
        "\"\"\"\n",
        "\n",
        "# Paste the AI-generated code below:\n",
        "# [YOUR AI-GENERATED CODE GOES HERE]\n",
        "\n",
        "# Ask the user for their name\n",
        "name = input(\"What is your name? \")\n",
        "\n",
        "# Ask the user for their monthly income\n",
        "income = input(\"What is your monthly income? \")\n",
        "\n",
        "# Print a personalized welcome message\n",
        "print(f\"\\nWelcome, {name}!\")\n",
        "print(f\"That's great to hear that you're earning ${income} per month. Keep it up!\")\n"
      ]
    },
    {
      "cell_type": "markdown",
      "id": "daaaec49",
      "metadata": {
        "id": "daaaec49"
      },
      "source": [
        "### 🔍 Evidence Package Entry #1"
      ]
    },
    {
      "cell_type": "code",
      "execution_count": 5,
      "id": "667d3549",
      "metadata": {
        "id": "667d3549",
        "colab": {
          "base_uri": "https://localhost:8080/"
        },
        "outputId": "639173a9-1fd1-4a6c-9ff3-b615d3da16a1"
      },
      "outputs": [
        {
          "output_type": "stream",
          "name": "stdout",
          "text": [
            "📋 EVIDENCE PACKAGE #1\n",
            "timestamp: 2025-07-24 01:33:01\n",
            "context: I wanted to create a simple input/output program to practice AI prompting\n",
            "ai_tool_used: ChatGPT\n",
            "what_worked: The AI understood my request and give me the code that meets my requirements\n",
            "what_didnt: I had to clarify how to import variables from user and how to put variables inside print statement\n",
            "what_i_learned: I learned how to use f-strings in Python to insert multiple variables into one print statement, and how to properly format multi-line strings.\n"
          ]
        }
      ],
      "source": [
        "# Evidence Package Documentation\n",
        "evidence_1 = {\n",
        "    \"timestamp\": datetime.now().strftime('%Y-%m-%d %H:%M:%S'),\n",
        "    \"context\": \"I wanted to create a simple input/output program to practice AI prompting\",\n",
        "    \"ai_tool_used\": \"ChatGPT\",  # Update this\n",
        "    \"what_worked\": \"The AI understood my request and give me the code that meets my requirements\",\n",
        "    \"what_didnt\": \"I had to clarify how to import variables from user and how to put variables inside print statement\",\n",
        "    \"what_i_learned\": \"I learned how to use f-strings in Python to insert multiple variables into one print statement, and how to properly format multi-line strings.\"\n",
        "}\n",
        "\n",
        "# Display your evidence\n",
        "print(\"📋 EVIDENCE PACKAGE #1\")\n",
        "for key, value in evidence_1.items():\n",
        "    print(f\"{key}: {value}\")"
      ]
    },
    {
      "cell_type": "markdown",
      "id": "182c831f",
      "metadata": {
        "id": "182c831f"
      },
      "source": [
        "## Part 3: Building the Budget Tracker\n",
        "\n",
        "Use AI to help you write a program that:\n",
        "- Allows users to input their monthly income\n",
        "- Allows users to input up to 3 expenses  \n",
        "- Calculates remaining budget\n",
        "- Shows a warning if budget is negative\n",
        "\n",
        "### 💡 Pro Tip: Be specific about requirements!"
      ]
    },
    {
      "cell_type": "code",
      "execution_count": 7,
      "id": "74e672e3",
      "metadata": {
        "id": "74e672e3",
        "colab": {
          "base_uri": "https://localhost:8080/",
          "height": 53
        },
        "outputId": "92f7cb3d-d3a3-4336-f138-aa4e1fc53aca"
      },
      "outputs": [
        {
          "output_type": "execute_result",
          "data": {
            "text/plain": [
              "'\\nMy Budget Tracker Prompt:\\nCan you help me to write a program that allow users to input their monthly income then ask them input up to 3 expenses then calculate the remaining budget and show a warning if budget is negative?\\n'"
            ],
            "application/vnd.google.colaboratory.intrinsic+json": {
              "type": "string"
            }
          },
          "metadata": {},
          "execution_count": 7
        }
      ],
      "source": [
        "# TASK: Write your detailed prompt for the budget tracker\n",
        "\"\"\"\n",
        "My Budget Tracker Prompt:\n",
        "Can you help me to write a program that allow users to input their monthly income then ask them input up to 3 expenses then calculate the remaining budget and show a warning if budget is negative?\n",
        "\"\"\""
      ]
    },
    {
      "cell_type": "markdown",
      "id": "4bcfacf4",
      "metadata": {
        "id": "4bcfacf4"
      },
      "source": [
        "### Paste and Test Your AI-Generated Budget Tracker"
      ]
    },
    {
      "cell_type": "code",
      "execution_count": 8,
      "id": "2501e778",
      "metadata": {
        "id": "2501e778",
        "colab": {
          "base_uri": "https://localhost:8080/"
        },
        "outputId": "5d3a0f89-22eb-4051-c20d-9c4cbe7cc76f"
      },
      "outputs": [
        {
          "output_type": "stream",
          "name": "stdout",
          "text": [
            "Enter your monthly income: $2000\n",
            "Enter expense #1 (leave blank if none): 1000\n",
            "Enter expense #2 (leave blank if none): 200\n",
            "Enter expense #3 (leave blank if none): 400\n",
            "\n",
            "Total income: $2000.00\n",
            "Total expenses: $1600.00\n",
            "Remaining budget: $400.00\n"
          ]
        }
      ],
      "source": [
        "# AI-GENERATED BUDGET TRACKER CODE\n",
        "# Ask for monthly income\n",
        "income_input = input(\"Enter your monthly income: $\")\n",
        "\n",
        "# Try converting income to float\n",
        "try:\n",
        "    income = float(income_input)\n",
        "except ValueError:\n",
        "    print(\"Invalid income input. Please enter a number.\")\n",
        "    exit()\n",
        "\n",
        "# Initialize total expenses\n",
        "total_expenses = 0.0\n",
        "\n",
        "# Ask for up to 3 expenses\n",
        "for i in range(1, 4):\n",
        "    expense_input = input(f\"Enter expense #{i} (leave blank if none): \")\n",
        "    if expense_input.strip() == \"\":\n",
        "        continue\n",
        "    try:\n",
        "        expense = float(expense_input)\n",
        "        total_expenses += expense\n",
        "    except ValueError:\n",
        "        print(f\"Invalid input for expense #{i}. Please enter a number.\")\n",
        "        exit()\n",
        "\n",
        "# Calculate remaining budget\n",
        "remaining_budget = income - total_expenses\n",
        "\n",
        "# Show results\n",
        "print(f\"\\nTotal income: ${income:.2f}\")\n",
        "print(f\"Total expenses: ${total_expenses:.2f}\")\n",
        "print(f\"Remaining budget: ${remaining_budget:.2f}\")\n",
        "\n",
        "# Warning if budget is negative\n",
        "if remaining_budget < 0:\n",
        "    print(\"⚠️ Warning: Your expenses exceed your income!\")\n"
      ]
    },
    {
      "cell_type": "markdown",
      "id": "f541d525",
      "metadata": {
        "id": "f541d525"
      },
      "source": [
        "### 🐛 Debugging and Refinement"
      ]
    },
    {
      "cell_type": "code",
      "execution_count": 18,
      "id": "3f624a27",
      "metadata": {
        "id": "3f624a27",
        "colab": {
          "base_uri": "https://localhost:8080/"
        },
        "outputId": "8c099ae1-b668-4e80-9334-779595b84926"
      },
      "outputs": [
        {
          "output_type": "stream",
          "name": "stdout",
          "text": [
            "🔧 DEBUGGING NOTES:\n",
            "- Issue 1: [Regarding the syntax and function of the program,I think it's okay, but I think it's not very user-friendly because when asking about expense, \n",
            " It only talks about general expenses.\n",
            " I want it to ask for the name of that expense type before asking how much was spent. \n",
            " And at the end, there will be statistics on what was spent on.\n",
            "\n",
            "- Fix 1:  I added a function to ask for the type of expense before entering the amount spent.\n",
            "            Added a function to list the types of expenses at the end\n"
          ]
        }
      ],
      "source": [
        "# Document any issues and fixes\n",
        "issues_found = [\n",
        "    \"Issue 1: [Regarding the syntax and function of the program,I think it's okay, but I think it's not very user-friendly because when asking about expense, \\n It only talks about general expenses.\\n I want it to ask for the name of that expense type before asking how much was spent. \\n And at the end, there will be statistics on what was spent on.\\n\",\n",
        "\n",
        "  '''Fix 1:  I added a function to ask for the type of expense before entering the amount spent.\n",
        "            Added a function to list the types of expenses at the end'''\n",
        "    # Add more as needed\n",
        "]\n",
        "\n",
        "print(\"🔧 DEBUGGING NOTES:\")\n",
        "for item in issues_found:\n",
        "    print(f\"- {item}\")"
      ]
    },
    {
      "cell_type": "code",
      "execution_count": 20,
      "id": "0772261d",
      "metadata": {
        "id": "0772261d",
        "colab": {
          "base_uri": "https://localhost:8080/"
        },
        "outputId": "5ced22f1-d85a-4153-86a3-be3e11a0ef36"
      },
      "outputs": [
        {
          "output_type": "stream",
          "name": "stdout",
          "text": [
            "Enter your monthly income: $-1000\n",
            "\n",
            "Enter up to 3 types of expenses.\n",
            "\n",
            "Enter name for expense #1 (leave blank to skip): \n",
            "\n",
            "Enter name for expense #2 (leave blank to skip): \n",
            "\n",
            "Enter name for expense #3 (leave blank to skip): \n",
            "\n",
            "======= Budget Summary =======\n",
            "Monthly Income: $-1000.00\n",
            "\n",
            "Expenses:\n",
            "\n",
            "Total Expenses: $0.00\n",
            "Remaining Budget: $-1000.00\n",
            "⚠️ Warning: You have spent more than your income!\n"
          ]
        }
      ],
      "source": [
        "# REFINED VERSION - Your Working Budget Tracker\n",
        "# [Paste your corrected/improved code here]\n",
        "\n",
        "# Ask for monthly income\n",
        "income_input = input(\"Enter your monthly income: $\")\n",
        "\n",
        "# Try converting income to float\n",
        "try:\n",
        "    income = float(income_input)\n",
        "except ValueError:\n",
        "    print(\"Invalid income input. Please enter a numeric value.\")\n",
        "    exit()\n",
        "\n",
        "# Dictionary to store expense types and amounts\n",
        "expenses = {}\n",
        "\n",
        "# Ask for up to 3 named expenses\n",
        "print(\"\\nEnter up to 3 types of expenses.\")\n",
        "for i in range(1, 4):\n",
        "    expense_name = input(f\"\\nEnter name for expense #{i} (leave blank to skip): \").strip()\n",
        "    if expense_name == \"\":\n",
        "        continue\n",
        "\n",
        "    amount_input = input(f\"How much did you spend on '{expense_name}'? $\")\n",
        "    try:\n",
        "        amount = float(amount_input)\n",
        "        expenses[expense_name] = amount\n",
        "    except ValueError:\n",
        "        print(\"Invalid amount. Please enter a number.\")\n",
        "        exit()\n",
        "\n",
        "# Calculate total expenses\n",
        "total_expenses = sum(expenses.values())\n",
        "remaining_budget = income - total_expenses\n",
        "\n",
        "# Display summary\n",
        "print(\"\\n======= Budget Summary =======\")\n",
        "print(f\"Monthly Income: ${income:.2f}\")\n",
        "print(\"\\nExpenses:\")\n",
        "for name, amount in expenses.items():\n",
        "    print(f\"  {name}: ${amount:.2f}\")\n",
        "\n",
        "print(f\"\\nTotal Expenses: ${total_expenses:.2f}\")\n",
        "print(f\"Remaining Budget: ${remaining_budget:.2f}\")\n",
        "\n",
        "# Warning if over budget\n",
        "if remaining_budget < 0:\n",
        "    print(\"⚠️ Warning: You have spent more than your income!\")\n"
      ]
    },
    {
      "cell_type": "markdown",
      "id": "ca842a66",
      "metadata": {
        "id": "ca842a66"
      },
      "source": [
        "## Part 4: Enhancement Challenge\n",
        "\n",
        "Choose ONE feature to add using AI assistance:\n",
        "- 🏷️ Expense categories (food, transport, entertainment)\n",
        "- 📊 Show percentage of income spent\n",
        "- ✅ Input validation (no negative numbers)\n",
        "- 📝 Detailed budget summary with advice"
      ]
    },
    {
      "cell_type": "code",
      "execution_count": null,
      "id": "fbd649d2",
      "metadata": {
        "id": "fbd649d2"
      },
      "outputs": [],
      "source": [
        "# Document your enhancement\n",
        "enhancement_choice = \"I chose to add: Input validation (no negative numbers)\"\n",
        "enhancement_prompt = \"\"\"\n",
        "Can you add a function into my program which can be check the input of the amount of expense is a positive number?\n",
        "\"\"\"\n",
        "\n",
        "print(f\"🚀 ENHANCEMENT: {enhancement_choice}\")"
      ]
    },
    {
      "cell_type": "code",
      "execution_count": 21,
      "id": "b12879f3",
      "metadata": {
        "id": "b12879f3",
        "colab": {
          "base_uri": "https://localhost:8080/"
        },
        "outputId": "1abd22f7-2aa4-4436-a20c-1946d1775779"
      },
      "outputs": [
        {
          "output_type": "stream",
          "name": "stdout",
          "text": [
            "Enter your monthly income: $-1000\n",
            "Please enter a positive number.\n",
            "Enter your monthly income: $-10\n",
            "Please enter a positive number.\n",
            "Enter your monthly income: $3000\n",
            "\n",
            "Enter up to 3 types of expenses.\n",
            "\n",
            "Enter name for expense #1 (leave blank to skip): grocery\n",
            "How much did you spend on 'grocery'? $-100\n",
            "Please enter a positive number.\n",
            "How much did you spend on 'grocery'? $100\n",
            "\n",
            "Enter name for expense #2 (leave blank to skip): fuel\n",
            "How much did you spend on 'fuel'? $-1000\n",
            "Please enter a positive number.\n",
            "How much did you spend on 'fuel'? $1000\n",
            "\n",
            "Enter name for expense #3 (leave blank to skip): rent\n",
            "How much did you spend on 'rent'? $-3000\n",
            "Please enter a positive number.\n",
            "How much did you spend on 'rent'? $3000\n",
            "\n",
            "======= Budget Summary =======\n",
            "Monthly Income: $3000.00\n",
            "\n",
            "Expenses:\n",
            "  grocery: $100.00\n",
            "  fuel: $1000.00\n",
            "  rent: $3000.00\n",
            "\n",
            "Total Expenses: $4100.00\n",
            "Remaining Budget: $-1100.00\n",
            "⚠️ Warning: You have spent more than your income!\n"
          ]
        }
      ],
      "source": [
        "# ENHANCED BUDGET TRACKER\n",
        "# [Paste your enhanced code here]\n",
        "\n",
        "def get_positive_float(prompt):\n",
        "    \"\"\"Prompt user until a valid positive number is entered.\"\"\"\n",
        "    while True:\n",
        "        value = input(prompt)\n",
        "        try:\n",
        "            number = float(value)\n",
        "            if number < 0:\n",
        "                print(\"Please enter a positive number.\")\n",
        "            else:\n",
        "                return number\n",
        "        except ValueError:\n",
        "            print(\"Invalid input. Please enter a numeric value.\")\n",
        "\n",
        "# Ask for monthly income\n",
        "income = get_positive_float(\"Enter your monthly income: $\")\n",
        "\n",
        "# Dictionary to store expense types and amounts\n",
        "expenses = {}\n",
        "\n",
        "# Ask for up to 3 named expenses\n",
        "print(\"\\nEnter up to 3 types of expenses.\")\n",
        "for i in range(1, 4):\n",
        "    expense_name = input(f\"\\nEnter name for expense #{i} (leave blank to skip): \").strip()\n",
        "    if expense_name == \"\":\n",
        "        continue\n",
        "\n",
        "    amount = get_positive_float(f\"How much did you spend on '{expense_name}'? $\")\n",
        "    expenses[expense_name] = amount\n",
        "\n",
        "# Calculate total expenses\n",
        "total_expenses = sum(expenses.values())\n",
        "remaining_budget = income - total_expenses\n",
        "\n",
        "# Display summary\n",
        "print(\"\\n======= Budget Summary =======\")\n",
        "print(f\"Monthly Income: ${income:.2f}\")\n",
        "\n",
        "print(\"\\nExpenses:\")\n",
        "for name, amount in expenses.items():\n",
        "    print(f\"  {name}: ${amount:.2f}\")\n",
        "\n",
        "print(f\"\\nTotal Expenses: ${total_expenses:.2f}\")\n",
        "print(f\"Remaining Budget: ${remaining_budget:.2f}\")\n",
        "\n",
        "# Warning if over budget\n",
        "if remaining_budget < 0:\n",
        "    print(\"⚠️ Warning: You have spent more than your income!\")\n"
      ]
    },
    {
      "cell_type": "markdown",
      "id": "cfa2845b",
      "metadata": {
        "id": "cfa2845b"
      },
      "source": [
        "## Part 5: Reflection and Lab Exit Ticket Preparation"
      ]
    },
    {
      "cell_type": "code",
      "execution_count": 23,
      "id": "220ff6b4",
      "metadata": {
        "id": "220ff6b4",
        "colab": {
          "base_uri": "https://localhost:8080/"
        },
        "outputId": "5aac6679-bee5-4f27-e152-c897c82d925c"
      },
      "outputs": [
        {
          "output_type": "stream",
          "name": "stdout",
          "text": [
            "📋 EVIDENCE PACKAGE #2 (Final)\n",
            "timestamp: 2025-07-24 01:52:16\n",
            "context: Creating the full budget tracker with enhancements\n",
            "ai_tool_used: ChatGPT\n",
            "prompts_used: 5\n",
            "iterations_needed: 2\n",
            "final_reflection: I learned how to implement input validation in Python using loops and conditionals. AI helped me understand how to create reusable functions to improve code clarity and handle edge cases more gracefully.\n"
          ]
        }
      ],
      "source": [
        "# Final Evidence Package Summary\n",
        "evidence_2 = {\n",
        "    \"timestamp\": datetime.now().strftime('%Y-%m-%d %H:%M:%S'),\n",
        "    \"context\": \"Creating the full budget tracker with enhancements\",\n",
        "    \"ai_tool_used\": \"ChatGPT\",\n",
        "    \"prompts_used\": 5,  # Update this number\n",
        "    \"iterations_needed\": 2,  # After the first try, I had to fix the syntax and add clear messages\n",
        "    \"final_reflection\": \"I learned how to implement input validation in Python using loops and conditionals. AI helped me understand how to create reusable functions to improve code clarity and handle edge cases more gracefully.\"\n",
        "}\n",
        "\n",
        "print(\"📋 EVIDENCE PACKAGE #2 (Final)\")\n",
        "for key, value in evidence_2.items():\n",
        "    print(f\"{key}: {value}\")"
      ]
    },
    {
      "cell_type": "markdown",
      "id": "69d17be0",
      "metadata": {
        "id": "69d17be0"
      },
      "source": [
        "## 🎯 Submission Checklist\n",
        "\n",
        "Before submitting:\n",
        "- ✅ All code cells run without errors\n",
        "- ✅ You've documented at least 2 AI interactions  \n",
        "- ✅ Budget tracker accepts income and 3+ expenses\n",
        "- ✅ Completed both Evidence Packages\n",
        "- ✅ Attempted the enhancement challenge\n",
        "- ✅ Reflected on your AI collaboration experience"
      ]
    },
    {
      "cell_type": "code",
      "execution_count": 26,
      "id": "0d85c2f1",
      "metadata": {
        "id": "0d85c2f1",
        "colab": {
          "base_uri": "https://localhost:8080/"
        },
        "outputId": "dce696d6-c639-48a6-e7b6-dde0ad75944e"
      },
      "outputs": [
        {
          "output_type": "stream",
          "name": "stdout",
          "text": [
            "==================================================\n",
            "WEEK 1 WORKSHEET COMPLETION SUMMARY\n",
            "==================================================\n",
            "Student Name: Kim Tan Le\n",
            "Completion Time: 2025-07-24 01:53:38\n",
            "\n",
            "Core Features Implemented:\n",
            "✅ Basic income/expense input\n",
            "✅ Budget calculation\n",
            "✅ Warning for negative budget\n",
            "✅ Enhancement: Input validation (no negative numbers)\n",
            "\n",
            "AI Collaboration Stats:\n",
            "- AI tools used: ChatGPT\n",
            "- Number of prompts: 5\n",
            "- Success rate: 100%\n",
            "\n",
            "🎉 Ready for Lab Exit Ticket submission!\n"
          ]
        }
      ],
      "source": [
        "# Generate submission summary\n",
        "print(\"=\"*50)\n",
        "print(\"WEEK 1 WORKSHEET COMPLETION SUMMARY\")\n",
        "print(\"=\"*50)\n",
        "print(f\"Student Name: Kim Tan Le\")\n",
        "print(f\"Completion Time: {datetime.now().strftime('%Y-%m-%d %H:%M:%S')}\")\n",
        "print(\"\\nCore Features Implemented:\")\n",
        "print(\"✅ Basic income/expense input\")\n",
        "print(\"✅ Budget calculation\")\n",
        "print(\"✅ Warning for negative budget\")\n",
        "print(\"✅ Enhancement: Input validation (no negative numbers)\")\n",
        "print(\"\\nAI Collaboration Stats:\")\n",
        "print(f\"- AI tools used: ChatGPT\")\n",
        "print(f\"- Number of prompts: 5\")\n",
        "print(f\"- Success rate: 100%\")\n",
        "print(\"\\n🎉 Ready for Lab Exit Ticket submission!\")"
      ]
    },
    {
      "cell_type": "markdown",
      "id": "63b51742",
      "metadata": {
        "id": "63b51742"
      },
      "source": [
        "## 💭 Final Reflection Questions\n",
        "\n",
        "**1. What surprised you most about working with AI to generate code?**  \n",
        "They are very powerful, they know everything about code and can be fix as well as write beautiful code stucture\n",
        "\n",
        "**2. What makes a good prompt vs. a poor prompt?**  \n",
        "Good Promt:\n",
        "Poor Promt:\n",
        "\n",
        "**3. How do you see AI tools fitting into your future programming workflow?**  \n",
        "...\n",
        "\n",
        "---\n",
        "\n",
        "### 📁 Save and Next Steps:\n",
        "1. File > Save a copy in GitHub (if you haven't already)    \n",
        "2. Prepare evidence for next lab session for the Exit Ticket  \n",
        "3. Start thinking about Week 2: Variables & Data Types!\n"
      ]
    }
  ],
  "metadata": {
    "colab": {
      "provenance": [],
      "include_colab_link": true
    },
    "language_info": {
      "name": "python"
    },
    "kernelspec": {
      "name": "python3",
      "display_name": "Python 3"
    }
  },
  "nbformat": 4,
  "nbformat_minor": 5
}