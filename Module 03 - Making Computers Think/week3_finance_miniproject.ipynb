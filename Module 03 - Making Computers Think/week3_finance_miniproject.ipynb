{
  "cells": [
    {
      "cell_type": "markdown",
      "metadata": {
        "id": "view-in-github",
        "colab_type": "text"
      },
      "source": [
        "<a href=\"https://colab.research.google.com/github/kimtannnn/Isys2001/blob/main/Module%2003%20-%20Making%20Computers%20Think/week3_finance_miniproject.ipynb\" target=\"_parent\"><img src=\"https://colab.research.google.com/assets/colab-badge.svg\" alt=\"Open In Colab\"/></a>"
      ]
    },
    {
      "cell_type": "markdown",
      "metadata": {
        "id": "m2WIkVMIUSZ8"
      },
      "source": [
        "# Week 3 Mini-Project: Smart Budget Decisions\n",
        "\n",
        "## Project Overview\n",
        "\n",
        "This week, you'll build the **decision-making foundation** for your personal finance tracker. By the end, you'll have a program that makes smart budget decisions - the same logic patterns you learned with grade calculators, but applied to real financial scenarios.\n",
        "\n",
        "## Learning Objectives\n",
        "\n",
        "- Apply if/elif/else to financial decision making\n",
        "- Practice input validation with money amounts\n",
        "- Build reusable financial logic patterns\n",
        "- Start your semester-long finance tracker project"
      ]
    },
    {
      "cell_type": "markdown",
      "metadata": {
        "id": "Q9hIwzzqUSaA"
      },
      "source": [
        "---\n",
        "\n",
        "## Part 1: Warm-Up - Pattern Recognition (10 minutes)\n",
        "\n",
        "### From Grades to Money\n",
        "You've learned to classify test scores into letter grades. Let's apply the **exact same pattern** to classify expenses:\n",
        "\n",
        "**Grade Classifier** (familiar):\n",
        "```python\n",
        "if score >= 90:\n",
        "    grade = \"A\"\n",
        "elif score >= 80:\n",
        "    grade = \"B\"\n",
        "# ... etc\n",
        "```\n",
        "\n",
        "**Expense Classifier** (new domain, same logic):\n",
        "```python\n",
        "if amount >= 100:\n",
        "    category = \"Major Expense\"\n",
        "elif amount >= 50:\n",
        "    category = \"Moderate Expense\"\n",
        "elif amount >= 10:\n",
        "    category = \"Minor Expense\"\n",
        "else:\n",
        "    category = \"Small Purchase\"\n",
        "```\n",
        "\n",
        "**Your Task**: Write a complete expense classifier that:\n",
        "\n",
        "1. Asks user for an expense amount\n",
        "2. Classifies it using the ranges above\n",
        "3. Prints a helpful message for each category\n",
        "\n",
        "---\n",
        "\n",
        "## Part 2: Financial Decision Logic (15 minutes)\n",
        "\n",
        "### Budget Limit Checker\n",
        "Apply your if/else skills to real budget management:"
      ]
    },
    {
      "cell_type": "code",
      "metadata": {
        "id": "NR7GJYpSUSaB",
        "outputId": "9d45a734-b6a3-4978-f19b-f0a4970b3c2c",
        "colab": {
          "base_uri": "https://localhost:8080/"
        }
      },
      "source": [
        "print(\"=== Budget Limit Checker ===\")\n",
        "\n",
        "# Get user's budget and expense\n",
        "monthly_budget = float(input(\"Enter your monthly budget: $\"))\n",
        "expense = float(input(\"Enter expense amount: $\"))\n",
        "\n",
        "# Calculate percentage of budget spent\n",
        "percent = (expense / monthly_budget) * 100\n",
        "\n",
        "# Decision logic\n",
        "if percent > 50:\n",
        "    message = \"Major purchase - think carefully\"\n",
        "elif percent > 25:\n",
        "    message = \"Significant expense\"\n",
        "elif percent > 10:\n",
        "    message = \"Moderate expense\"\n",
        "else:\n",
        "    message = \"Minor expense - within budget\"\n",
        "\n",
        "# Show results\n",
        "print(f\"Expense is {percent:.1f}% of your budget.\")\n",
        "print(message)\n"
      ],
      "execution_count": null,
      "outputs": [
        {
          "output_type": "stream",
          "name": "stdout",
          "text": [
            "=== Budget Limit Checker ===\n",
            "Enter your monthly budget: $200\n",
            "Enter expense amount: $100\n",
            "Expense is 50.0% of your budget.\n",
            "Significant expense\n"
          ]
        }
      ]
    },
    {
      "cell_type": "markdown",
      "metadata": {
        "id": "7QFSIplCUSaC"
      },
      "source": [
        "### Savings Goal Progress\n",
        "Use multiple conditions to track savings progress:"
      ]
    },
    {
      "cell_type": "code",
      "metadata": {
        "id": "2c8oBvIPUSaC",
        "outputId": "a11e046e-4907-4782-f3a1-928b4b4a63ba",
        "colab": {
          "base_uri": "https://localhost:8080/"
        }
      },
      "source": [
        "print(\"=== Savings Goal Tracker ===\")\n",
        "\n",
        "# Get inputs\n",
        "goal_amount = float(input(\"Savings goal: $\"))\n",
        "current_savings = float(input(\"Current savings: $\"))\n",
        "\n",
        "# Calculate percentage of goal reached\n",
        "percentage = (current_savings / goal_amount) * 100\n",
        "\n",
        "# Decision logic\n",
        "if percentage >= 100:\n",
        "    message = \"Goal achieved! Consider a new goal.\"\n",
        "elif percentage >= 75:\n",
        "    message = \"Almost there! You're doing great.\"\n",
        "elif percentage >= 50:\n",
        "    message = \"Halfway there - keep it up!\"\n",
        "elif percentage >= 25:\n",
        "    message = \"Good progress, stay consistent.\"\n",
        "else:\n",
        "    message = \"Just getting started - you've got this!\"\n",
        "\n",
        "# Show results\n",
        "print(f\"You've reached {percentage:.1f}% of your savings goal.\")\n",
        "print(message)\n"
      ],
      "execution_count": 1,
      "outputs": [
        {
          "output_type": "stream",
          "name": "stdout",
          "text": [
            "=== Savings Goal Tracker ===\n",
            "Savings goal: $4000\n",
            "Current savings: $2000\n",
            "You've reached 50.0% of your savings goal.\n",
            "Halfway there - keep it up!\n"
          ]
        }
      ]
    },
    {
      "cell_type": "markdown",
      "metadata": {
        "id": "rzYAsQiFUSaD"
      },
      "source": [
        "---\n",
        "\n",
        "## Part 3: Smart Purchase Advisor (20 minutes)\n",
        "\n",
        "### The Challenge\n",
        "Build a program that helps users make smart purchase decisions by considering multiple factors.\n",
        "\n",
        "### Requirements\n",
        "\n",
        "Your purchase advisor should:\n",
        "\n",
        "1. Get purchase amount and user's available money\n",
        "2. Check if they can afford it (basic affordability)\n",
        "3. Give different advice based on purchase size\n",
        "4. Consider their financial situation\n",
        "\n",
        "### Starter Framework"
      ]
    },
    {
      "cell_type": "code",
      "metadata": {
        "id": "HzbPAjN0USaD",
        "outputId": "33767909-45c9-4a1a-b5a6-57070a9fcdb9",
        "colab": {
          "base_uri": "https://localhost:8080/"
        }
      },
      "source": [
        "print(\"=== Smart Purchase Advisor ===\")\n",
        "\n",
        "# Get financial information\n",
        "available_money = float(input(\"How much money do you have available? $\"))\n",
        "purchase_price = float(input(\"How much does the item cost? $\"))\n",
        "monthly_income = float(input(\"What's your monthly income? $\"))\n",
        "\n",
        "# Calculate affordability percentage\n",
        "affordability_ratio = (purchase_price / available_money) * 100\n",
        "\n",
        "# Decision logic\n",
        "if purchase_price > available_money:\n",
        "    # Can't afford it\n",
        "    needed_more = purchase_price - available_money\n",
        "    print(f\"Save up first - you need ${needed_more:.2f} more.\")\n",
        "elif affordability_ratio > 50:\n",
        "    # Can afford but it's a big chunk of their available money\n",
        "    print(f\"You can afford it, but it's {affordability_ratio:.1f}% of your available money. Consider waiting.\")\n",
        "elif purchase_price > (0.25 * monthly_income):\n",
        "    # Big compared to monthly income but affordable\n",
        "    print(\"This is a significant expense compared to your monthly income — think about it carefully.\")\n",
        "elif affordability_ratio > 10:\n",
        "    # Reasonable purchase\n",
        "    print(\"This seems like a reasonable purchase for your budget.\")\n",
        "else:\n",
        "    # Small purchase\n",
        "    print(\"This is a minor expense — go for it!\")\n"
      ],
      "execution_count": 3,
      "outputs": [
        {
          "output_type": "stream",
          "name": "stdout",
          "text": [
            "=== Smart Purchase Advisor ===\n",
            "How much money do you have available? $2000\n",
            "How much does the item cost? $2100\n",
            "What's your monthly income? $1000\n",
            "Save up first - you need $100.00 more.\n"
          ]
        }
      ]
    },
    {
      "cell_type": "markdown",
      "metadata": {
        "id": "_tC5axg-USaF"
      },
      "source": [
        "### Sample Decision Logic to Implement\n",
        "\n",
        "- **Can't afford**: \"Save up first - you need $X more\"\n",
        "- **Can afford but expensive**: \"You can afford it, but it's Y% of your available money. Consider waiting.\"\n",
        "- **Reasonable purchase**: \"This seems like a reasonable purchase for your budget\"\n",
        "- **Small purchase**: \"This is a minor expense - go for it!\"\n",
        "\n",
        "### Bonus Challenges\n",
        "\n",
        "If you finish early, add these features:\n",
        "\n",
        "1. **Emergency fund check**: Warn if purchase would drain emergency savings\n",
        "2. **Category-based advice**: Different advice for necessities vs luxuries\n",
        "3. **Payment plan calculator**: Show monthly payment options for large purchases\n",
        "\n",
        "---\n",
        "\n",
        "## Part 4: Building Your Finance Tracker Foundation (15 minutes)\n",
        "\n",
        "### Start Your Semester Project\n",
        "\n",
        "Create a new notebook called \"Personal_Finance_Tracker\" and build the foundation:"
      ]
    },
    {
      "cell_type": "code",
      "metadata": {
        "id": "dAYWWTPHUSaH",
        "outputId": "c8dcba96-8b3d-4581-dae4-97b2dd33ef98",
        "colab": {
          "base_uri": "https://localhost:8080/"
        }
      },
      "source": [
        "print(\"=== Personal Finance Tracker v0.1 ===\")\n",
        "print(\"Week 3: Smart Budget Decisions\")\n",
        "print()\n",
        "\n",
        "# User setup\n",
        "name = input(\"Enter your name: \")\n",
        "monthly_income = float(input(\"Enter your monthly income: $\"))\n",
        "\n",
        "print(f\"\\nWelcome to your finance tracker, {name}!\")\n",
        "print(f\"Monthly income: ${monthly_income:.2f}\")\n",
        "\n",
        "# This week's feature: Expense categorisation\n",
        "print(\"\\n--- Expense Entry ---\")\n",
        "expense_amount = float(input(\"Enter an expense: $\"))\n",
        "expense_description = input(\"What was this expense for? \")\n",
        "\n",
        "# Calculate percentage of budget\n",
        "expense_percent = (expense_amount / monthly_income) * 100\n",
        "\n",
        "# Expense categorisation logic\n",
        "if expense_percent > 50:\n",
        "    category = \"Major Expense\"\n",
        "    feedback = \"This takes up a big chunk of your income — think carefully before spending.\"\n",
        "elif expense_percent > 25:\n",
        "    category = \"Significant Expense\"\n",
        "    feedback = \"This is a significant cost — make sure it’s necessary.\"\n",
        "elif expense_percent > 10:\n",
        "    category = \"Moderate Expense\"\n",
        "    feedback = \"This is a manageable cost, but keep an eye on your budget.\"\n",
        "else:\n",
        "    category = \"Minor Expense\"\n",
        "    feedback = \"This is a small expense — you’re within budget.\"\n",
        "\n",
        "# Show results\n",
        "print(f\"\\nExpense: ${expense_amount:.2f} ({expense_description})\")\n",
        "print(f\"Category: {category}\")\n",
        "print(f\"That’s {expense_percent:.1f}% of your monthly income.\")\n",
        "print(feedback)\n"
      ],
      "execution_count": 4,
      "outputs": [
        {
          "output_type": "stream",
          "name": "stdout",
          "text": [
            "=== Personal Finance Tracker v0.1 ===\n",
            "Week 3: Smart Budget Decisions\n",
            "\n",
            "Enter your name: Kim\n",
            "Enter your monthly income: $2000\n",
            "\n",
            "Welcome to your finance tracker, Kim!\n",
            "Monthly income: $2000.00\n",
            "\n",
            "--- Expense Entry ---\n",
            "Enter an expense: $1000\n",
            "What was this expense for? Eating\n",
            "\n",
            "Expense: $1000.00 (Eating)\n",
            "Category: Significant Expense\n",
            "That’s 50.0% of your monthly income.\n",
            "This is a significant cost — make sure it’s necessary.\n"
          ]
        }
      ]
    },
    {
      "cell_type": "markdown",
      "metadata": {
        "id": "58-KlCmaUSaJ"
      },
      "source": [
        "### Your Mission\n",
        "\n",
        "1. Implement the expense categorisation logic\n",
        "2. Add budget percentage calculations\n",
        "3. Give helpful feedback to the user\n",
        "4. Save this notebook - you'll expand it every week!\n",
        "\n",
        "---\n",
        "\n",
        "## Reflection Questions\n",
        "\n",
        "After completing the mini-project, consider:\n",
        "\n",
        "1. **Pattern Recognition**: How were the financial decisions similar to grade calculations?\n",
        "- Using thresholds (e.g., GPA ≥ 3.5 = Dean's List, Expense Ratio > 50 = Major Expense).\n",
        "- Requiring conditions to be checked in order (higher thresholds first to avoid early matches blocking later conditions).\n",
        "- Ending with a category or label based on numeric input.\n",
        "\n",
        "2. **Real-World Application**: Which financial decision logic would be most useful to you personally?\n",
        "\n",
        "- Budget percentage checks that check how much of my income a purchase takes up before I buy it.\n",
        "\n",
        "- Affordability alerts that tell me if a purchase is leaving me with too little emergency savings.\n",
        "\n",
        "3. **Logic Complexity**: What made some decisions harder to code than others?\n",
        "- Incorporating multiple factors (e.g. affordable but large relative to monthly income).\n",
        "- Requires parentheses for correct operator order (and or logical).\n",
        "- Involves calculating ratios rather than just comparing a number.\n",
        "4. **Future Features**: What financial decisions would you like your tracker to help with?\n",
        "\n",
        "- Track monthly savings progress toward a goal.\n",
        "\n",
        "- Recurring spending reminders so I don't forget bills.\n",
        "\n",
        "- Summarize categories (food, rent, entertainment) so I know where my money is going.\n",
        "\n",
        "- Automatically give advice on cutting costs or saving more.\n",
        "\n",
        "---\n",
        "\n",
        "## Looking Ahead\n",
        "\n",
        "### Next Week Preview\n",
        "\n",
        "Week 4 will add **loops** to your finance tracker:\n",
        "\n",
        "- Track multiple expenses in one session\n",
        "- Calculate running totals\n",
        "- Process transaction histories\n",
        "- Validate input until it's correct\n",
        "\n",
        "### Final Project Connection\n",
        "\n",
        "Each week adds new capabilities:\n",
        "\n",
        "- **Week 3**: Decision making (budget limits, categorisation)\n",
        "- **Week 4**: Repetition (multiple transactions, validation loops)\n",
        "- **Week 5**: Data storage (saving/loading financial data)\n",
        "- **Final**: AI integration (smart financial advice, pattern recognition)\n",
        "\n",
        "Your mini-projects are building blocks for something you'll actually want to use!\n",
        "\n",
        "---\n",
        "\n",
        "## Success Criteria\n",
        "\n",
        "**You'll know you're successful when**:\n",
        "- ✅ Your programs make different decisions based on financial data\n",
        "- ✅ You can explain why you chose specific budget thresholds\n",
        "- ✅ Your code handles various expense amounts appropriately\n",
        "- ✅ You see the connection between programming concepts and real financial decisions\n",
        "- ✅ You're excited about what you'll add to your tracker next week\n",
        "\n",
        "**Remember**: This is unassessed practice - focus on learning and experimenting!"
      ]
    },
    {
      "cell_type": "code",
      "source": [
        "# Part 1\n",
        "\n",
        "# Ask user for expense amount\n",
        "amount = float(input(\"Enter the expense amount: \"))\n",
        "\n",
        "# Classify the expense\n",
        "if amount >= 100:\n",
        "    category = \"Major Expense\"\n",
        "    message = \"This is a large cost — make sure it's worth it!\"\n",
        "elif amount >= 50:\n",
        "    category = \"Moderate Expense\"\n",
        "    message = \"A moderate cost — budget carefully.\"\n",
        "elif amount >= 10:\n",
        "    category = \"Minor Expense\"\n",
        "    message = \"A small everyday cost.\"\n",
        "else:\n",
        "    category = \"Small Purchase\"\n",
        "    message = \"Very small cost — not much to worry about.\"\n",
        "\n",
        "# Print result\n",
        "print(f\"Category: {category}\")\n",
        "print(f\"Note: {message}\")\n"
      ],
      "metadata": {
        "id": "r0rsdthkHU4l",
        "outputId": "af033996-acce-4229-b15e-78a0039fb9f6",
        "colab": {
          "base_uri": "https://localhost:8080/"
        }
      },
      "execution_count": null,
      "outputs": [
        {
          "output_type": "stream",
          "name": "stdout",
          "text": [
            "Enter the expense amount: 300\n",
            "Category: Major Expense\n",
            "Note: This is a large cost — make sure it's worth it!\n"
          ]
        }
      ]
    },
    {
      "cell_type": "code",
      "source": [],
      "metadata": {
        "id": "P_vRLPjMHYX2"
      },
      "execution_count": null,
      "outputs": []
    }
  ],
  "metadata": {
    "kernelspec": {
      "display_name": "Python 3",
      "language": "python",
      "name": "python3"
    },
    "colab": {
      "provenance": [],
      "include_colab_link": true
    }
  },
  "nbformat": 4,
  "nbformat_minor": 0
}