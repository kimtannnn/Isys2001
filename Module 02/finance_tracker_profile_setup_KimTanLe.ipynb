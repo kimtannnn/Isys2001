{
  "cells": [
    {
      "cell_type": "markdown",
      "metadata": {
        "id": "view-in-github",
        "colab_type": "text"
      },
      "source": [
        "<a href=\"https://colab.research.google.com/github/kimtannnn/Isys2001/blob/main/Module%2002/finance_tracker_profile_setup_KimTanLe.ipynb\" target=\"_parent\"><img src=\"https://colab.research.google.com/assets/colab-badge.svg\" alt=\"Open In Colab\"/></a>"
      ]
    },
    {
      "cell_type": "markdown",
      "metadata": {
        "id": "Ij1d52FYcPuN"
      },
      "source": [
        "# Mini Project 02: Finance Tracker Profile Setup\n",
        "\n",
        "In this project, you will build the first component of our semester-long Personal Finance Tracker: the user profile setup. This project collates many of the exercises from this week’s activities. This is intentional—by combining these exercises, you can reflect on your progress and see how well you’re following the industry best practices we espouse. These practices include:\n",
        "\n",
        "- **Meaningful Notebook Naming:** Give your notebook a clear, descriptive name (e.g., `finance_tracker_profile_setup.ipynb`).\n",
        "- **Frequent Saves & Version Control:** Save your work often and use descriptive commit messages when uploading to GitHub.\n",
        "- **Descriptive Variable Names:** Use names like `user_name`, `theme_color`, etc., to clearly convey their purpose.\n",
        "- **Code Comments & Documentation:** Use text cells and inline comments to document your thought process.\n",
        "- **Critical Use of AI:** Ask follow-up questions if anything is unclear, and verify that AI suggestions align with the basics you’ve learnt (i.e., using input(), print(), basic data types, and variables).\n",
        "\n",
        "> **Tip:** Review these best practices periodically during the project to reinforce good coding habits.\n",
        "\n",
        "Let's get started!"
      ]
    },
    {
      "cell_type": "raw",
      "metadata": {
        "id": "Ps88qkRGcPuY"
      },
      "source": [
        "---\n",
        "\n",
        "## Project Overview and Instructions\n",
        "\n",
        "In this project, you'll create a program that:\n",
        "1. **Collects User Profile Information:**\n",
        "   Ask for the user's name, preferred app theme color, primary currency, and a main savings goal.\n",
        "2. **Displays a Personalised Welcome Message:**\n",
        "   Outputs a clear summary message using the collected data to confirm the profile setup.\n",
        "3. **Follows Industry Best Practices:**\n",
        "   Emphasises meaningful variable names, proper documentation, and good version control.\n",
        "\n",
        "**Project Steps:**\n",
        "1. **State the Problem**\n",
        "2. **Describe Input and Output**\n",
        "3. **Work the Problem by Hand**\n",
        "4. **Develop an Algorithm (Pseudocode)**\n",
        "5. **Write the Code**\n",
        "6. **Reflect on Best Practices & Use AI to Verify**\n",
        "\n",
        "> **Note:** Use this project as an opportunity to both practise coding and refine your professional development skills.\n",
        "\n",
        "---"
      ]
    },
    {
      "cell_type": "markdown",
      "metadata": {
        "id": "gz-zBa3NcPuY"
      },
      "source": [
        "## Step 1 – State the Problem\n",
        "\n",
        "Define the goal of your program in your own words. For example:\n",
        "\n",
        "- **Goal:** Build a program that creates a user profile for a finance tracker by collecting some initial settings and displays a personalized welcome message.\n",
        "- **Data to Gather:** User's name, preferred theme color, primary currency, and main savings goal.\n",
        "\n",
        "> **AI Usage Tip:**\n",
        "> If you're unsure whether your problem statement is clear, ask an AI tool:  \n",
        "> \"Can you restate my description of a Finance Tracker Profile Setup program using only input(), print(), and variables?\"  \n",
        "> Review the response to ensure it aligns with your current learning."
      ]
    },
    {
      "cell_type": "raw",
      "metadata": {
        "id": "zqObLbfQcPuY"
      },
      "source": [
        "---\n",
        "\n",
        "## Step 2 – Describe Input and Output\n",
        "\n",
        "**Inputs:**\n",
        "- `user_name` (string)\n",
        "- `theme_color` (string)\n",
        "- `primary_currency` (string)\n",
        "- `main_savings_goal` (string)\n",
        "\n",
        "**Expected Output:**\n",
        "A message like:\n",
        "> \"Welcome to your Personal Finance Tracker, [user_name]! Your profile is ready. The app will use a [theme_color] theme and all amounts will be in [primary_currency]. Let's start working towards your goal of saving for a [main_savings_goal]!\"\n",
        "\n",
        "> **Tip:** Mapping your inputs to the expected output helps you visualise the overall flow of your program.\n",
        "\n",
        "> **AI Usage Tip:**\n",
        "> Ask, \"What are some creative ways to format this welcome message for a finance app using only the basics?\" and verify that the suggestions adhere to input(), print(), and basic variables."
      ]
    },
    {
      "cell_type": "markdown",
      "metadata": {
        "id": "BMOazFMmcPuZ"
      },
      "source": [
        "## Step 3 – Work the Problem by Hand\n",
        "\n",
        "Simulate the process with sample inputs. For example, if:\n",
        "- `user_name` = \"Alex\"\n",
        "- `theme_color` = \"dark\"\n",
        "- `primary_currency` = \"AUD\"\n",
        "- `main_savings_goal` = \"a holiday\"\n",
        "\n",
        "Then the expected output is:  \n",
        "> \"Welcome to your Personal Finance Tracker, Alex! Your profile is ready. The app will use a dark theme and all amounts will be in AUD. Let's start working towards your goal of saving for a a holiday!\"\n",
        "\n",
        "> **Tip:** Try a few different scenarios on paper to confirm that your plan produces a consistent and clear output."
      ]
    },
    {
      "cell_type": "markdown",
      "metadata": {
        "id": "aY3xONe6cPuZ"
      },
      "source": [
        "---\n",
        "\n",
        "## Step 4 – Develop an Algorithm (Pseudocode)\n",
        "\n",
        "Outline your approach using pseudocode. For example:\n",
        "\n",
        "```plain\n",
        "1. Start the program.\n",
        "2. Prompt the user for their name and store it.\n",
        "3. Prompt for their preferred theme color and store it.\n",
        "4. Prompt for their primary currency and store it.\n",
        "5. Prompt for their main savings goal and store it.\n",
        "6. Construct a welcome and summary message using these inputs.\n",
        "7. Print the summary message.\n",
        "8. End the program.\n",
        "```\n",
        "\n",
        "> **Tip:** Your pseudocode need not follow Python syntax—it should simply outline the logical steps of your solution.\n",
        "\n",
        "> **AI Usage Tip:**\n",
        "> Ask an AI tool, \"Can you review my pseudocode for a Finance Tracker Profile Setup program and suggest improvements?\" Ensure that any suggestions stay within the basics you have learnt.\n",
        "\n",
        "---\n",
        "\n",
        "## Step 5 – Write the Code\n",
        "\n",
        "Translate your pseudocode into Python code. Below is one example solution:"
      ]
    },
    {
      "cell_type": "code",
      "metadata": {
        "id": "U8Ykypy4cPuZ",
        "colab": {
          "base_uri": "https://localhost:8080/"
        },
        "outputId": "8f068e5f-a59c-47b6-a9d2-6134db79f928"
      },
      "source": [
        "# Import datetime to timestamp your work\n",
        "from datetime import datetime\n",
        "\n",
        "# Collect user information for their financial profile\n",
        "user_name = input(\"What is your name? \")\n",
        "theme_color = input(\"What color would you like for your app theme? (e.g., blue, green, dark) \")\n",
        "primary_currency = input(\"What is your primary currency? (e.g., AUD, USD, EUR) \")\n",
        "main_savings_goal = input(\"What is one big savings goal you have? (e.g., New Car, Holiday) \")\n",
        "\n",
        "# Construct the personalized welcome message\n",
        "summary = (\"Welcome to your Personal Finance Tracker, \" + user_name + \"! Your profile is ready. \" + \\\n",
        "           \"The app will use a \" + theme_color + \" theme and all amounts will be in \" + \\\n",
        "           primary_currency + \". Let's start working towards your goal of saving for a \" + \\\n",
        "           main_savings_goal + \"!\")\n",
        "\n",
        "# Display the summary message\n",
        "print(summary)"
      ],
      "execution_count": null,
      "outputs": [
        {
          "output_type": "stream",
          "name": "stdout",
          "text": [
            "What is your name? Kim\n",
            "What color would you like for your app theme? (e.g., blue, green, dark) Dark\n",
            "What is your primary currency? (e.g., AUD, USD, EUR) AUD\n",
            "What is one big savings goal you have? (e.g., New Car, Holiday) 4500\n",
            "Welcome to your Personal Finance Tracker, Kim! Your profile is ready. The app will use a Dark theme and all amounts will be in AUD. Let's start working towards your goal of saving for a 4500!\n"
          ]
        }
      ]
    },
    {
      "cell_type": "code",
      "source": [
        "# My Work\n",
        "\n",
        "# Finance Tracker Profile Setup\n",
        "\n",
        "# Helper function to ensure non-empty input\n",
        "def get_non_empty_input(prompt):\n",
        "    while True:\n",
        "        value = input(prompt).strip()\n",
        "        if value:\n",
        "            return value\n",
        "        print(\"Input cannot be empty. Please try again.\")\n",
        "\n",
        "# Helper function to ensure valid positive integer\n",
        "def get_positive_number(prompt):\n",
        "    while True:\n",
        "            value = float(input(prompt))\n",
        "            if value >= 0:\n",
        "                return value\n",
        "            print(\"Amount must be a non-negative number.\")\n",
        "\n",
        "\n",
        "# Collect user profile data\n",
        "user_profile = {}\n",
        "user_profile[\"Name\"] = get_non_empty_input(\"Enter your name: \")\n",
        "user_profile[\"Theme\"] = get_non_empty_input(\"Preferred theme color (e.g., light/dark): \")\n",
        "user_profile[\"Currency\"] = get_non_empty_input(\"Primary currency (e.g., AUD, USD): \")\n",
        "user_profile[\"Savings_Goal\"] = get_non_empty_input(\"What you saving for : \")\n",
        "user_profile[\"Saving_Amount\"] = get_positive_number(f\"How much do you plan to save for {user_profile['Savings_Goal']}? \")\n",
        "\n",
        "# Build and print personalized summary\n",
        "print(\"\\n\" + \"=\"*80)\n",
        "print(f\"Welcome to your Personal Finance Tracker, {user_profile['Name']}!\")\n",
        "print(\"Your profile setup is complete with the following preferences:\")\n",
        "print(f\"* Theme: {user_profile['Theme']}\")\n",
        "print(f\"* Currency: {user_profile['Currency']}\")\n",
        "print(f\"* Savings Goal: {user_profile['Savings_Goal']}\")\n",
        "print(f\"* Saving Amount: {user_profile['Saving_Amount']} {user_profile['Currency']}\")\n",
        "print(f\"Let's start working towards your goal of saving for {user_profile['Savings_Goal']} with a target of {user_profile['Saving_Amount']} {user_profile['Currency']}!\")\n",
        "print(\"=\"*80)\n",
        "\n",
        "\n",
        "\n",
        "\n"
      ],
      "metadata": {
        "colab": {
          "base_uri": "https://localhost:8080/"
        },
        "id": "PCWEYLjzDOGb",
        "outputId": "90cd239d-656a-4332-c5ab-9b095debbdce"
      },
      "execution_count": 1,
      "outputs": [
        {
          "output_type": "stream",
          "name": "stdout",
          "text": [
            "Enter your name: Kim\n",
            "Preferred theme color (e.g., light/dark): dark\n",
            "Primary currency (e.g., AUD, USD): AUD\n",
            "What you saving for : Travel\n",
            "How much do you plan to save for Travel? 3000\n",
            "\n",
            "================================================================================\n",
            "Welcome to your Personal Finance Tracker, Kim!\n",
            "Your profile setup is complete with the following preferences:\n",
            "* Theme: dark\n",
            "* Currency: AUD\n",
            "* Savings Goal: Travel\n",
            "* Saving Amount: 3000.0 AUD\n",
            "Let's start working towards your goal of saving for Travel with a target of 3000.0 AUD!\n",
            "================================================================================\n"
          ]
        }
      ]
    },
    {
      "cell_type": "markdown",
      "metadata": {
        "id": "new-evidence-markdown-cell"
      },
      "source": [
        "---\n",
        "\n",
        "## 📋 Evidence Package for Lab Exit Ticket\n",
        "\n",
        "Complete the following evidence package to document your work and reflect on the process. This will be checked at the start of the next lab."
      ]
    },
    {
      "cell_type": "code",
      "metadata": {
        "id": "new-evidence-code-cell",
        "colab": {
          "base_uri": "https://localhost:8080/"
        },
        "outputId": "275a42bd-fabf-480d-b9f3-d951c6eba907"
      },
      "source": [
        "from datetime import datetime\n",
        "\n",
        "# Complete this dictionary with your reflections.\n",
        "evidence_package = {\n",
        "    \"timestamp\": datetime.now().strftime('%Y-%m-%d %H:%M:%S'),\n",
        "    \"student_name\": \"Kim Tan Le\",\n",
        "    \"project_context\": \"This project involved creating the initial user profile for a personal finance tracker, focusing on applying a structured problem-solving methodology.\",\n",
        "    \"ai_tool_used\": \"ChatGPT\",\n",
        "    \"ai_assistance_summary\": \"I used the AI to help me simplify the print structure, implement input validation (like disallowing empty or negative values),\\n and refactor my code into clearer and reusable helper functions.\\n I also asked for feedback to make my code shorter and easier to read.\",\n",
        "    \"best_practice_reflection\": \"Using descriptive variable names like `saving_goal` and `saving_amount` instead of vague names like `x` or `goal1` made my code easier to understand, \\nespecially when building the final summary message. Adding input validation also made the program more reliable.\",\n",
        "    \"key_learning\": \"I learned that thinking through the input and output process clearly (even by hand) made my final code more structured and logical. \\n Using helper functions helped me avoid repeating the same logic and kept the code clean.\"\n",
        "}\n",
        "\n",
        "# Display your evidence package\n",
        "print(\"=\"*50)\n",
        "print(\"EVIDENCE PACKAGE SUBMISSION\")\n",
        "print(\"=\"*50)\n",
        "for key, value in evidence_package.items():\n",
        "    # Format multi-line strings for better readability\n",
        "    if isinstance(value, str) and len(value) > 60:\n",
        "        print(f'\\n{key.replace(\"_\", \" \").title()}:\\n  {value}')\n",
        "    else:\n",
        "        print(f'{key.replace(\"_\", \" \").title()}: {value}')\n",
        "print(\"=\"*50)\n"
      ],
      "execution_count": 5,
      "outputs": [
        {
          "output_type": "stream",
          "name": "stdout",
          "text": [
            "==================================================\n",
            "EVIDENCE PACKAGE SUBMISSION\n",
            "==================================================\n",
            "Timestamp: 2025-08-06 22:30:06\n",
            "Student Name: Kim Tan Le\n",
            "\n",
            "Project Context:\n",
            "  This project involved creating the initial user profile for a personal finance tracker, focusing on applying a structured problem-solving methodology.\n",
            "Ai Tool Used: ChatGPT\n",
            "\n",
            "Ai Assistance Summary:\n",
            "  I used the AI to help me simplify the print structure, implement input validation (like disallowing empty or negative values),\n",
            " and refactor my code into clearer and reusable helper functions.\n",
            " I also asked for feedback to make my code shorter and easier to read.\n",
            "\n",
            "Best Practice Reflection:\n",
            "  Using descriptive variable names like `saving_goal` and `saving_amount` instead of vague names like `x` or `goal1` made my code easier to understand, \n",
            "especially when building the final summary message. Adding input validation also made the program more reliable.\n",
            "\n",
            "Key Learning:\n",
            "  I learned that thinking through the input and output process clearly (even by hand) made my final code more structured and logical. \n",
            " Using helper functions helped me avoid repeating the same logic and kept the code clean.\n",
            "==================================================\n"
          ]
        }
      ]
    },
    {
      "cell_type": "markdown",
      "metadata": {
        "id": "cGuW0n5scPua"
      },
      "source": [
        "---\n",
        "\n",
        "## Reflection on Industry Best Practices\n",
        "\n",
        "Reflect on these questions:\n",
        "- How did using descriptive variable names and comments improve your code?\n",
        "  - Instead of using basic variable names like x,y,z. I use explicit variable names like `user_profile`, `get_non_empty_input()`, and `get_positive_number()`. Which can\n",
        "\n",
        "  - \"Self-explanatory\" Just look at `user_profile[\"Saving_Amount\"]` and understand immediately that this is the amount of savings\n",
        "  - \"Easier to maintain\": When I come back to the code later, I don't have to guess what the variable is for\n",
        "  - \"Reduces logical errors\": Clear variable names help avoid confusion when using the wrong variable\n",
        "  - Comments in helper functions also help me and others understand the logic behind input validation.\n",
        "\n",
        "- Did you save your work frequently and use meaningful commit messages on GitHub?\n",
        "\n",
        "During this project, I only saved once because I finished my work in one session because the work was a bit short, but for longer projects next time I will definitely save to github regularly through the steps. I use commit messages \"Complete finance tracker profile setup with error handling\"\n",
        "\n",
        "- How did documenting your thought process help you understand your solution better?\n",
        "\n",
        "  - \"Structured approach\": Splitting code into clear helper functions helps me think more logically\n",
        "  - \"Dictionary structure\": Using `user_profile` dictionary helps organize data systematically\n",
        "  - \"Error handling\": Thinking ahead about edge cases (empty input, negative numbers) makes the solution more robust\n",
        "\n",
        "> **AI Usage Tip:**\n",
        "> Ask an AI tool, \"Can you suggest improvements to my project documentation and commit message examples based on industry best practices for a finance app setup?\" Verify that the suggestions are consistent with the fundamentals you have learnt.\n",
        "\n",
        "---\n",
        "\n",
        "## Final Reflection and Next Steps\n",
        "\n",
        "- **Reflect:**\n",
        "  Review your completed project and consider how collating these exercises helped you see your progress. Ask yourself if you’re following the best practices we discussed.\n",
        "- **Experiment:**\n",
        "  Try adding more inputs (like a secondary savings goal) or adjusting the output format.\n",
        "- **Share:**\n",
        "  Post your project on GitHub with clear commit messages and share it with peers for feedback.\n",
        "- **Continue Using AI:**\n",
        "  Use AI tools to clarify doubts or review your work, but always verify that the suggestions align with what you've learnt (i.e., only using input(), print(), and basic variables).\n",
        "\n",
        "> **Final Note:**\n",
        "> Happy coding, and remember—the practices you develop here are examples from industry that help build clean, maintainable code. They’re not definitive rules, but good habits to emulate as you grow as a software developer.\n",
        "\n",
        "---\n",
        "\n",
        "Enjoy building this first step of your Personal Finance Tracker while practising these best practices!"
      ]
    }
  ],
  "metadata": {
    "kernelspec": {
      "name": "python3",
      "language": "python",
      "display_name": "Python 3 (ipykernel)"
    },
    "colab": {
      "provenance": [],
      "include_colab_link": true
    }
  },
  "nbformat": 4,
  "nbformat_minor": 0
}